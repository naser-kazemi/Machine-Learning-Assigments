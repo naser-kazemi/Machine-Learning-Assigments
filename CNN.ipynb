{
  "cells": [
    {
      "cell_type": "markdown",
      "metadata": {
        "id": "9fJS19QJ82d1"
      },
      "source": [
        "<img src='http://www-scf.usc.edu/~ghasemig/images/sharif.png' alt=\"SUT logo\" width=200 height=200 align=left class=\"saturate\" >\n",
        "\n",
        "<br>\n",
        "<font face=\"Times New Roman\">\n",
        "<div dir=ltr align=center>\n",
        "<font color=0F5298 size=7>\n",
        "    Introduction to Machine Learning <br>\n",
        "<font color=2565AE size=5>\n",
        "    Computer Engineering Department <br>\n",
        "    Fall 2022<br>\n",
        "<font color=3C99D size=5>\n",
        "    Homework 4: Practical - Convolutional Neural Networks <br>\n",
        "<font color=696880 size=4>\n",
        "    Arian Amani\n",
        "    \n",
        "    \n",
        "____\n"
      ]
    },
    {
      "cell_type": "markdown",
      "metadata": {
        "id": "M_4yS7DO82d5"
      },
      "source": [
        "### Full Name : Naser Kazemi\n",
        "### Student Number : 99102059\n",
        "___"
      ]
    },
    {
      "cell_type": "markdown",
      "metadata": {
        "id": "zNz8aWtD82d6"
      },
      "source": [
        "# Problem\n",
        "This assignment uses PyTorch to build and implement a residual CNN for solving a classification problem. Our goal is to classify handwritten digits from 0 to 9 on the MNIST dataset. You can try larger and more fun datasets if you have access to Google Colab. (for example: [facial emotion detection](https://www.kaggle.com/datasets/msambare/fer2013))\n",
        "\n",
        "* It is highly recommended to run this notebook on Google Colab so that you can utilize its GPU.\n",
        "* If you need to change the inputs of functions you are implementing, or want to add new cells or functions, feel free to do so."
      ]
    },
    {
      "cell_type": "markdown",
      "metadata": {
        "id": "W0bGV8AXO3Yx"
      },
      "source": [
        "# Setup"
      ]
    },
    {
      "cell_type": "code",
      "execution_count": 2,
      "metadata": {
        "id": "CdrZr6HWO2p8"
      },
      "outputs": [],
      "source": [
        "import copy\n",
        "\n",
        "import torch\n",
        "from torch import nn\n",
        "from torch import optim\n",
        "from torch.nn import functional as F\n",
        "from torch.utils.data import Dataset, DataLoader, random_split\n",
        "from torchvision import transforms, datasets\n",
        "\n",
        "import seaborn as sns\n",
        "\n",
        "from tqdm import tqdm\n",
        "import numpy as np\n",
        "import pandas as pd\n",
        "import matplotlib.pyplot as plt\n",
        "\n",
        "plt.style.use('ggplot')\n",
        "###########################################################\n",
        "##  If you need any other packages, import them below    ##\n",
        "###########################################################\n"
      ]
    },
    {
      "cell_type": "code",
      "execution_count": 3,
      "metadata": {
        "colab": {
          "base_uri": "https://localhost:8080/"
        },
        "id": "1IRQRkTN82d8",
        "outputId": "82c30014-36bc-4eeb-e7b2-5fc804a82b84"
      },
      "outputs": [
        {
          "output_type": "execute_result",
          "data": {
            "text/plain": [
              "device(type='cuda')"
            ]
          },
          "metadata": {},
          "execution_count": 3
        }
      ],
      "source": [
        "device = torch.device('cuda' if torch.cuda.is_available() else 'cpu')\n",
        "device"
      ]
    },
    {
      "cell_type": "markdown",
      "metadata": {
        "id": "gzydGC2SNuAu"
      },
      "source": [
        "# Prepare The Data (10 Points)"
      ]
    },
    {
      "cell_type": "markdown",
      "metadata": {
        "id": "BpbXovvR82d9"
      },
      "source": [
        "Write a composed transformation to transform our dataset's PIL images to tensors and normalize them with ```mean: 0.1307``` and ```std: 0.3081```: "
      ]
    },
    {
      "cell_type": "markdown",
      "metadata": {
        "id": "wjlSOCdK82d9"
      },
      "source": [
        "<details>\n",
        "<summary>Hint</summary>\n",
        "<br>\n",
        "<a href=\"https://pytorch.org/vision/stable/generated/torchvision.transforms.Compose.html\">torchvision.transforms.Compose</a>\n",
        "</details>"
      ]
    },
    {
      "cell_type": "code",
      "execution_count": 4,
      "metadata": {
        "id": "MmjHPf9J82d-"
      },
      "outputs": [],
      "source": [
        "###############################################################\n",
        "##                Compose your transformations               ##\n",
        "###############################################################\n",
        "transformation = transform_train = transforms.Compose([\n",
        "    transforms.RandomCrop(28),\n",
        "    transforms.RandomHorizontalFlip(),\n",
        "    transforms.ToTensor(),\n",
        "    transforms.Normalize(0.1307, 0.3081),\n",
        "])\n"
      ]
    },
    {
      "cell_type": "code",
      "execution_count": 5,
      "metadata": {
        "colab": {
          "base_uri": "https://localhost:8080/"
        },
        "id": "qvucC97Y-BKv",
        "outputId": "7c626415-166e-404b-9204-3cae0a430277"
      },
      "outputs": [
        {
          "output_type": "stream",
          "name": "stdout",
          "text": [
            "Mounted at /content/drive\n"
          ]
        }
      ],
      "source": [
        "from google.colab import drive\n",
        "drive.mount('/content/drive')"
      ]
    },
    {
      "cell_type": "markdown",
      "metadata": {
        "id": "ANdYnd04N0ze"
      },
      "source": [
        "Split the downloaded MNIST dataset into two dataloaders ```train``` & ```val```"
      ]
    },
    {
      "cell_type": "code",
      "execution_count": 6,
      "metadata": {
        "colab": {
          "base_uri": "https://localhost:8080/"
        },
        "id": "pj0SOZSa82d_",
        "outputId": "166955ae-f631-47d4-d436-e931506b0fdb"
      },
      "outputs": [
        {
          "output_type": "stream",
          "name": "stdout",
          "text": [
            "60000\n"
          ]
        }
      ],
      "source": [
        "# Download the MNIST dataset\n",
        "mnist_data = datasets.MNIST(root='/content/drive/MyDrive/ML/HW4/', download=True, transform=transformation)\n",
        "\n",
        "# Number of images in the dataset: 60,000\n",
        "print(len(mnist_data))\n",
        "\n",
        "# Split the dataset into training and validation sets\n",
        "train_data, valid_data = random_split(mnist_data, [50000, 10000]) "
      ]
    },
    {
      "cell_type": "markdown",
      "metadata": {
        "id": "WDeBq5RZ82d_"
      },
      "source": [
        "Create dataloaders for your train and validation data with ```batch size 16``` and ```shuffle = True``` for train loader."
      ]
    },
    {
      "cell_type": "markdown",
      "metadata": {
        "id": "WrJJO7mB82eA"
      },
      "source": [
        "<details>\n",
        "<summary>Hint</summary>\n",
        "<br>\n",
        "<a href=\"https://pytorch.org/tutorials/beginner/basics/data_tutorial.html\">DATASETS & DATALOADERS</a>\n",
        "</details>"
      ]
    },
    {
      "cell_type": "code",
      "execution_count": 35,
      "metadata": {
        "id": "4CEUTGaFQI51"
      },
      "outputs": [],
      "source": [
        "###############################################################\n",
        "##           Load the datasets into train/valid              ##\n",
        "##                       dataloaders                         ##\n",
        "###############################################################\n",
        "batch_size = 400\n",
        "num_workers = 0\n",
        "\n",
        "train_loader = DataLoader(train_data, batch_size=batch_size, num_workers=num_workers)\n",
        "val_loader = DataLoader(valid_data, batch_size=batch_size, num_workers=num_workers)"
      ]
    },
    {
      "cell_type": "markdown",
      "metadata": {
        "id": "HF_40_3rQ5Uv"
      },
      "source": [
        "# Define Model (40 Points)"
      ]
    },
    {
      "cell_type": "markdown",
      "metadata": {
        "id": "wQlpFJZ382eA"
      },
      "source": [
        "### You need to implement a model with the architecture below:\n",
        "[Input: (BS, 1, 28, 28)] -- > [Conv2D (BS, 16, 28, 28)] --> ReLU --> [MaxPool2D (BS, 16, 14, 14): Residual1]\n",
        "\n",
        "--> [Conv2D (BS, 16, 14, 14)] --> ReLU --> [Conv2D (BS, 16, 14, 14)] --> ReLU --> [Addition with Residual1]\n",
        "\n",
        "--> [MaxPool2D (BS, 16, 7, 7)] --> [Conv2D (BS, 64, 7, 7)] --> [ReLU: Residual2]\n",
        "\n",
        "--> [Conv2D (BS, 64, 7, 7)] --> ReLU --> [Conv2D (BS, 64, 7, 7)] --> ReLU --> [Addition with Residual2]\n",
        "\n",
        "--> [GlobalAveragePooling (BS, 64, 1, 1)] --> [Flatten (BS, 64)] --> [Linear (BS, 10)] --> ReLU --> OUT\n",
        "\n",
        "Here you can see the drawn schematic of the architecture, too: [Link](https://drive.google.com/file/d/1gQzafyxTkuvQr8T-xUncLmedX94LnY_l/view?usp=share_link)"
      ]
    },
    {
      "cell_type": "markdown",
      "metadata": {
        "id": "FcaPrqHX82eB"
      },
      "source": [
        "<details>\n",
        "<summary>Hint</summary>\n",
        "<br>\n",
        "These might be helpful:\n",
        "<br>\n",
        "<a href=\"https://pytorch.org/docs/stable/generated/torch.clone.html\">TORCH.CLONE</a>\n",
        "<br><br>\n",
        "<a href=\"https://pytorch.org/docs/master/generated/torch.nn.AdaptiveAvgPool2d.html#torch.nn.AdaptiveAvgPool2d\">AdaptiveAvgPool2d</a> with output size (1, 1) for global average pooling\n",
        "<br><br>\n",
        "<a href=\"https://arxiv.org/pdf/1512.03385.pdf\">Deep Residual Learning for Image Recognition</a>\n",
        "</details>"
      ]
    },
    {
      "cell_type": "code",
      "execution_count": 39,
      "metadata": {
        "id": "jQfGVj2rQ90G"
      },
      "outputs": [],
      "source": [
        "#####################################\n",
        "##        Define your model        ##\n",
        "##            Your Code            ##\n",
        "#####################################\n",
        "\n",
        "class BasicBlock(nn.Module):\n",
        "    def __init__(self, in_planes, planes, stride=1):\n",
        "        super(BasicBlock, self).__init__()\n",
        "        self.conv1 = nn.Conv2d(\n",
        "            in_planes, planes, kernel_size=3, stride=stride, padding=1, bias=False)\n",
        "        self.bn1 = nn.BatchNorm2d(planes)\n",
        "        self.conv2 = nn.Conv2d(planes, planes, kernel_size=3,\n",
        "                               stride=1, padding=1, bias=False)\n",
        "        self.bn2 = nn.BatchNorm2d(planes)\n",
        "\n",
        "        self.shortcut = nn.Sequential()\n",
        "        if stride != 1 or in_planes != planes:\n",
        "            self.shortcut = nn.Sequential(\n",
        "                nn.Conv2d(in_planes, planes, kernel_size=1,\n",
        "                          stride=stride, bias=False),\n",
        "                nn.BatchNorm2d(planes)\n",
        "            )\n",
        "\n",
        "    def forward(self, x):\n",
        "        out = F.relu(self.bn1(self.conv1(x)))\n",
        "        out = F.relu(self.bn2(self.conv2(out)))\n",
        "        out = out.clone() + self.shortcut(x)\n",
        "        return out\n",
        "\n",
        "\n",
        "class ResidualClassifier(nn.Module):\n",
        "    def __init__(self, batch_size=16, num_classes=10):\n",
        "        super(ResidualClassifier, self).__init__()\n",
        "\n",
        "        self.conv1 = nn.Conv2d(1, 16, kernel_size=3, stride=1, padding=1)\n",
        "        self.bn1 = nn.BatchNorm2d(16)\n",
        "        self.max_pool1 = nn.MaxPool2d(kernel_size=2, stride=2)\n",
        "        self.layer1 = BasicBlock(16, 16, stride=1)\n",
        "        self.max_pool2 = nn.MaxPool2d(kernel_size=2, stride=2)\n",
        "        self.conv2 = nn.Conv2d(16, 64, kernel_size=3, stride=1, padding=1)\n",
        "        self.bn2 = nn.BatchNorm2d(64)\n",
        "        self.layer2 = nn.Sequential(BasicBlock(64, 64, stride=1))\n",
        "        self.avg_pool = nn.AdaptiveAvgPool2d(1)\n",
        "        self.linear = nn.Linear(64, num_classes)\n",
        "\n",
        "    def forward(self, x):\n",
        "        out = F.relu(self.bn1(self.conv1(x)))\n",
        "        out = self.max_pool1(out)\n",
        "        out = self.layer1(out)\n",
        "        out = self.max_pool2(out)\n",
        "        out = F.relu(self.bn2(self.conv2(out)))\n",
        "        out = self.layer2(out)\n",
        "        out = self.avg_pool(out)\n",
        "        out = out.view(out.size(0), -1)\n",
        "        out = F.relu(self.linear(out))\n",
        "        return out\n"
      ]
    },
    {
      "cell_type": "markdown",
      "metadata": {
        "id": "1jZeKXV9Rbq3"
      },
      "source": [
        "# Train Model (30 Points)"
      ]
    },
    {
      "cell_type": "code",
      "execution_count": 40,
      "metadata": {
        "id": "koMk0TkKRazn"
      },
      "outputs": [],
      "source": [
        "######################################################################\n",
        "##        Instantiate model, define hyper parameters, optimizer,    ##\n",
        "##        loss function and etc                                     ##\n",
        "######################################################################\n",
        "# model = ResidualClassifier().to(device)\n",
        "model = ResidualClassifier().to(device)\n",
        "learning_rate = 0.01\n",
        "criterion = nn.CrossEntropyLoss()\n",
        "optimizer = optim.SGD(model.parameters(), lr=learning_rate, momentum=0.9, weight_decay=0.0001)\n",
        "\n",
        "\n",
        "def accuracy(y_pred, y_true):\n",
        "    y_pred = torch.argmax(y_pred, dim=1)\n",
        "    return torch.sum(y_pred == y_true).item() / len(y_true)"
      ]
    },
    {
      "cell_type": "code",
      "execution_count": 41,
      "metadata": {
        "id": "5r7ZMWvNTjdn"
      },
      "outputs": [],
      "source": [
        "def train(model, train_loader, val_loader, criterion, optimizer, num_epochs):\n",
        "    train_loss = []\n",
        "    val_loss = []\n",
        "    train_acc = []\n",
        "    val_acc = []\n",
        "    \n",
        "    best_model = None\n",
        "    \n",
        "    for epoch in range(num_epochs):\n",
        "        model.train()\n",
        "        for i, (images, labels) in enumerate(train_loader):\n",
        "            # print(images.shape)\n",
        "            images = images.to(device)\n",
        "            labels = labels.to(device)\n",
        "            # Forward pass\n",
        "            optimizer.zero_grad()\n",
        "            outputs = model(images)\n",
        "            loss = criterion(outputs, labels)\n",
        "            # Backward and optimize\n",
        "            loss.backward()\n",
        "            optimizer.step()\n",
        "\n",
        "        # print epoch metrics\n",
        "        print('Epoch [{}/{}], Loss: {:.4f}, Accuracy: {:.2f}%'.\\\n",
        "              format(epoch+1, num_epochs, loss.item(), accuracy(outputs, labels)))\n",
        "                \n",
        "        # save epoch metrics\n",
        "        \n",
        "        train_loss.append(loss.item())\n",
        "        train_acc.append(accuracy(outputs, labels))\n",
        "        \n",
        "        # evaluate model on validation set\n",
        "        model.eval()\n",
        "        with torch.no_grad():\n",
        "            for images, labels in val_loader:\n",
        "                images = images.to(device)\n",
        "                labels = labels.to(device)\n",
        "                outputs = model(images)\n",
        "                loss = criterion(outputs, labels)\n",
        "        \n",
        "        # print validation metrics\n",
        "        print('Validation Loss: {:.4f}, Validation Accuracy: {:.2f}%'.\\\n",
        "                format(loss.item(), accuracy(outputs, labels)))\n",
        "\n",
        "        # save epoch metrics\n",
        "        val_loss.append(loss.item())\n",
        "        val_acc.append(accuracy(outputs, labels))\n",
        "        \n",
        "        \n",
        "        # save best model\n",
        "        if best_model is None or val_loss[-1] < min(val_loss):\n",
        "            best_model = copy.deepcopy(model.state_dict())\n",
        "            torch.save(best_model, '/content/drive/MyDrive/ML/HW4/best_model.pt')\n",
        "            print('Best model updated')\n",
        "            \n",
        "    # load best model\n",
        "    model.load_state_dict(best_model)\n",
        "    return model, train_loss, val_loss, train_acc, val_acc"
      ]
    },
    {
      "cell_type": "code",
      "execution_count": 42,
      "metadata": {
        "colab": {
          "base_uri": "https://localhost:8080/"
        },
        "id": "7oLbVuut82eC",
        "outputId": "4196739d-01c1-4aa9-adf9-80d56cfd6002"
      },
      "outputs": [
        {
          "output_type": "stream",
          "name": "stdout",
          "text": [
            "Epoch [1/20], Loss: 0.7129, Accuracy: 0.78%\n",
            "Validation Loss: 0.8183, Validation Accuracy: 0.73%\n",
            "Best model updated\n",
            "Epoch [2/20], Loss: 0.4570, Accuracy: 0.85%\n",
            "Validation Loss: 0.4773, Validation Accuracy: 0.86%\n",
            "Epoch [3/20], Loss: 0.3761, Accuracy: 0.87%\n",
            "Validation Loss: 0.3946, Validation Accuracy: 0.86%\n",
            "Epoch [4/20], Loss: 0.3433, Accuracy: 0.88%\n",
            "Validation Loss: 0.3563, Validation Accuracy: 0.88%\n",
            "Epoch [5/20], Loss: 0.3246, Accuracy: 0.88%\n",
            "Validation Loss: 0.3208, Validation Accuracy: 0.89%\n",
            "Epoch [6/20], Loss: 0.3083, Accuracy: 0.88%\n",
            "Validation Loss: 0.3015, Validation Accuracy: 0.90%\n",
            "Epoch [7/20], Loss: 0.3012, Accuracy: 0.89%\n",
            "Validation Loss: 0.2867, Validation Accuracy: 0.90%\n",
            "Epoch [8/20], Loss: 0.2970, Accuracy: 0.89%\n",
            "Validation Loss: 0.2721, Validation Accuracy: 0.91%\n",
            "Epoch [9/20], Loss: 0.2803, Accuracy: 0.89%\n",
            "Validation Loss: 0.2809, Validation Accuracy: 0.91%\n",
            "Epoch [10/20], Loss: 0.2796, Accuracy: 0.89%\n",
            "Validation Loss: 0.2905, Validation Accuracy: 0.90%\n",
            "Epoch [11/20], Loss: 0.2859, Accuracy: 0.89%\n",
            "Validation Loss: 0.2536, Validation Accuracy: 0.91%\n",
            "Epoch [12/20], Loss: 0.2749, Accuracy: 0.89%\n",
            "Validation Loss: 0.2407, Validation Accuracy: 0.91%\n",
            "Epoch [13/20], Loss: 0.2768, Accuracy: 0.89%\n",
            "Validation Loss: 0.2407, Validation Accuracy: 0.91%\n",
            "Epoch [14/20], Loss: 0.2759, Accuracy: 0.89%\n",
            "Validation Loss: 0.2607, Validation Accuracy: 0.91%\n",
            "Epoch [15/20], Loss: 0.2700, Accuracy: 0.89%\n",
            "Validation Loss: 0.2398, Validation Accuracy: 0.91%\n",
            "Epoch [16/20], Loss: 0.2740, Accuracy: 0.89%\n",
            "Validation Loss: 0.2592, Validation Accuracy: 0.91%\n",
            "Epoch [17/20], Loss: 0.2762, Accuracy: 0.89%\n",
            "Validation Loss: 0.2748, Validation Accuracy: 0.91%\n",
            "Epoch [18/20], Loss: 0.2668, Accuracy: 0.89%\n",
            "Validation Loss: 0.2646, Validation Accuracy: 0.91%\n",
            "Epoch [19/20], Loss: 0.2729, Accuracy: 0.89%\n",
            "Validation Loss: 0.2644, Validation Accuracy: 0.91%\n",
            "Epoch [20/20], Loss: 0.2662, Accuracy: 0.89%\n",
            "Validation Loss: 0.2438, Validation Accuracy: 0.91%\n"
          ]
        }
      ],
      "source": [
        "######################################################################\n",
        "##        Train your model (Complete the code below)                ##\n",
        "######################################################################\n",
        "total_step = len(train_loader)\n",
        "num_epochs = 20\n",
        "\n",
        "torch.autograd.set_detect_anomaly(True)\n",
        "model, train_loss, val_loss, train_acc, val_acc = train(model, \n",
        "                                                        train_loader, \n",
        "                                                        val_loader, \n",
        "                                                        criterion, \n",
        "                                                        optimizer, \n",
        "                                                        num_epochs)"
      ]
    },
    {
      "cell_type": "code",
      "execution_count": 43,
      "metadata": {
        "id": "_YSWvcEGSVor",
        "colab": {
          "base_uri": "https://localhost:8080/",
          "height": 949
        },
        "outputId": "a9814395-77b5-4e90-dd52-52b1e593b860"
      },
      "outputs": [
        {
          "output_type": "display_data",
          "data": {
            "text/plain": [
              "<Figure size 864x576 with 1 Axes>"
            ],
            "image/png": "[encoded data removed]"
          },
          "metadata": {}
        },
        {
          "output_type": "display_data",
          "data": {
            "text/plain": [
              "<Figure size 864x576 with 1 Axes>"
            ],
            "image/png": "[encoded data removed]"
          },
          "metadata": {}
        }
      ],
      "source": [
        "##############################################################\n",
        "##          Plot metrics graph for different epochs         ##\n",
        "##                        Your Code                         ##\n",
        "##############################################################\n",
        "\n",
        "plt.figure(figsize=(12, 8))\n",
        "plt.plot(train_loss, label='train_loss')\n",
        "plt.plot(val_loss, label='val_loss')\n",
        "plt.legend()\n",
        "plt.show()\n",
        "\n",
        "plt.figure(figsize=(12, 8))\n",
        "plt.plot(train_acc, label='train_acc')\n",
        "plt.plot(val_acc, label='val_acc')\n",
        "plt.legend()\n",
        "plt.show()"
      ]
    },
    {
      "cell_type": "markdown",
      "metadata": {
        "id": "LzhCrIFkSE1D"
      },
      "source": [
        "# Test Model (20 Points)"
      ]
    },
    {
      "cell_type": "code",
      "execution_count": 47,
      "metadata": {
        "id": "zgcmoqi2T_IQ"
      },
      "outputs": [],
      "source": [
        "def confusion_matrix(y_true, y_pred):\n",
        "    cm = np.zeros((10, 10), dtype=np.int32)\n",
        "    for i in range(len(y_true)):\n",
        "        cm[y_true[i]][y_pred[i]] += 1\n",
        "    return cm"
      ]
    },
    {
      "cell_type": "code",
      "execution_count": 54,
      "metadata": {
        "id": "ihixveNISFwE",
        "colab": {
          "base_uri": "https://localhost:8080/",
          "height": 301
        },
        "outputId": "9b0f9f1c-15c6-4392-e098-684a86e69539"
      },
      "outputs": [
        {
          "output_type": "stream",
          "name": "stdout",
          "text": [
            "10000\n",
            "Test Loss: 0.8942, Test Accuracy: 0.71%\n"
          ]
        },
        {
          "output_type": "display_data",
          "data": {
            "text/plain": [
              "<Figure size 432x288 with 2 Axes>"
            ],
            "image/png": "[encoded data removed]"
          },
          "metadata": {}
        }
      ],
      "source": [
        "##################################################\n",
        "##          Test your model on test-set         ##\n",
        "##          and plot confusion matrix           ##\n",
        "##################################################\n",
        "\n",
        "test_data = datasets.MNIST(root='data/', download=True, transform=transformation, train=False)\n",
        "test_loader = DataLoader(test_data, batch_size=64, shuffle=False)\n",
        "print(len(test_data))\n",
        "\n",
        "cm = []\n",
        "test_loss = 0.0\n",
        "test_acc = 0.0\n",
        "# test model\n",
        "model.eval()\n",
        "with torch.no_grad():\n",
        "    for images, labels in test_loader:\n",
        "        images = images.to(device)\n",
        "        labels = labels.to(device)\n",
        "        outputs = model(images)\n",
        "        loss = criterion(outputs, labels)\n",
        "\n",
        "        # save epoch metrics\n",
        "        test_loss += loss.item()\n",
        "        test_acc += accuracy(outputs, labels)\n",
        "\n",
        "\n",
        "\n",
        "        # plot confusion matrix\n",
        "        cm.append(confusion_matrix(labels.cpu(), torch.argmax(outputs, dim=1).cpu()))\n",
        "\n",
        "# print validation metrics\n",
        "print('Test Loss: {:.4f}, Test Accuracy: {:.2f}%'.\n",
        "        format(test_loss / len(cm), test_acc / len(cm)))\n",
        "        \n",
        "res = cm[0]\n",
        "for c in cm[1:]:\n",
        "    res += c\n",
        "\n",
        "sns.heatmap(res, annot=True, fmt='d')\n",
        "plt.show()"
      ]
    },
    {
      "cell_type": "code",
      "source": [
        "\n"
      ],
      "metadata": {
        "id": "S2-c9e4UsKSA"
      },
      "execution_count": null,
      "outputs": []
    }
  ],
  "metadata": {
    "accelerator": "GPU",
    "colab": {
      "provenance": []
    },
    "gpuClass": "premium",
    "kernelspec": {
      "display_name": "myEnv",
      "language": "python",
      "name": "python3"
    },
    "language_info": {
      "codemirror_mode": {
        "name": "ipython",
        "version": 3
      },
      "file_extension": ".py",
      "mimetype": "text/x-python",
      "name": "python",
      "nbconvert_exporter": "python",
      "pygments_lexer": "ipython3",
      "version": "3.8.13 (default, Mar 28 2022, 06:16:26) \n[Clang 12.0.0 ]"
    },
    "varInspector": {
      "cols": {
        "lenName": 16,
        "lenType": 16,
        "lenVar": 40
      },
      "kernels_config": {
        "python": {
          "delete_cmd_postfix": "",
          "delete_cmd_prefix": "del ",
          "library": "var_list.py",
          "varRefreshCmd": "print(var_dic_list())"
        },
        "r": {
          "delete_cmd_postfix": ") ",
          "delete_cmd_prefix": "rm(",
          "library": "var_list.r",
          "varRefreshCmd": "cat(var_dic_list()) "
        }
      },
      "types_to_exclude": [
        "module",
        "function",
        "builtin_function_or_method",
        "instance",
        "_Feature"
      ],
      "window_display": false
    },
    "vscode": {
      "interpreter": {
        "hash": "17834c5f8fe1aed837634498cfcf8480d7a4681659b9e2d9e3df938711b793bb"
      }
    }
  },
  "nbformat": 4,
  "nbformat_minor": 0
}