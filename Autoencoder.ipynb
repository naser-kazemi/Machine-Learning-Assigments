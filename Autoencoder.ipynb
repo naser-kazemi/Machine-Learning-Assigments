{
  "cells": [
    {
      "cell_type": "markdown",
      "metadata": {
        "id": "gkgLTtweWO4I"
      },
      "source": [
        "<img src='http://www-scf.usc.edu/~ghasemig/images/sharif.png' alt=\"SUT logo\" width=200 height=200 align=left class=\"saturate\" >\n",
        "\n",
        "<br>\n",
        "<font face=\"Times New Roman\">\n",
        "<div dir=ltr align=center>\n",
        "<font color=0F5298 size=7>\n",
        "    Introduction to Machine Learning <br>\n",
        "<font color=2565AE size=5>\n",
        "    Computer Engineering Department <br>\n",
        "    Fall 2022<br>\n",
        "<font color=3C99D size=5>\n",
        "    Homework 3: Practical - Neural Network <br>\n",
        "<font color=696880 size=4>\n",
        "    Alireza Belal\n",
        "    \n",
        "    \n",
        "____\n"
      ]
    },
    {
      "cell_type": "markdown",
      "metadata": {
        "id": "nXiGjVP-WO4M"
      },
      "source": [
        "### Full Name : Naser Kazemi\n",
        "### Student Number : 99102059\n",
        "___"
      ]
    },
    {
      "cell_type": "markdown",
      "metadata": {
        "id": "ycKf29WgWO4N"
      },
      "source": [
        "# Setup"
      ]
    },
    {
      "cell_type": "markdown",
      "metadata": {
        "id": "1ZKhLOdyWO4N"
      },
      "source": [
        "# 0. Preparation\n",
        "\n",
        "In this part, you will use a dataset related to COVID-19. Load your dataset using pandas."
      ]
    },
    {
      "cell_type": "code",
      "execution_count": 8,
      "metadata": {
        "id": "YFMHj5ayWO4N"
      },
      "outputs": [],
      "source": [
        "import pandas as pd\n",
        "from sklearn.preprocessing import LabelEncoder\n",
        "covid_data = pd.read_csv('Covid Dataset.csv')\n",
        "categorical_feature_mask = covid_data.dtypes == object\n",
        "cateforical_cols = covid_data.columns[categorical_feature_mask].tolist()\n",
        "le = LabelEncoder()\n",
        "covid_data[cateforical_cols] = covid_data[cateforical_cols].apply(lambda col: le.fit_transform(col))\n",
        "covid_data = covid_data.astype(float)\n",
        "\n",
        "# Extract X and Y from the dataset\n",
        "X_total = covid_data.iloc[:, 0:20].values\n",
        "y_total = covid_data.iloc[:,20].values\n",
        "\n",
        "\n",
        "#SPLIT THE DATA INTO TRAIN AND TEST DATA \n",
        "from sklearn.model_selection import train_test_split\n",
        "X_train, X_test, y_train, y_test = train_test_split(X_total, y_total, test_size = 0.3, random_state = 0)"
      ]
    },
    {
      "cell_type": "markdown",
      "metadata": {
        "id": "kiUmFHLXWO4P"
      },
      "source": [
        "---------------"
      ]
    },
    {
      "cell_type": "markdown",
      "metadata": {
        "id": "68FPsk0nWO4P"
      },
      "source": [
        "# 1. DNN as nonlinear dimensionality reduction method (50 Points)\n",
        "\n",
        "Autoencoder is an unsupervised artificial neural network that compresses the data to lower dimension and then reconstructs the input back. Autoencoder finds the representation of the data in a lower dimension by focusing more on the important features getting rid of noise and redundancy. It's based on Encoder-Decoder architecture, where encoder encodes the high-dimensional data to lower-dimension and decoder takes the lower-dimensional data and tries to reconstruct the original high-dimensional data.\n",
        "\n",
        "![picture](https://drive.google.com/uc?id=1RTZwx4xL6zFV_nUENBgWlFKLKldPoyI-)\n",
        "\n",
        "In the above Diagram, X is the input data, z is the lower-dimension representation of input X and X’ is the reconstructed input data. The mapping of higher to lower dimensions can be linear or non-linear depending on the choice of the activation function.\n",
        "\n",
        "In this part you're gonna implement an autoencoder using Keras framework as dimensionally reduction module as explained [here](https://blog.keras.io/building-autoencoders-in-keras.html).\n",
        "(It would be ok to use PyTorch as well.)\n",
        "Reduce the dimension of the data to 2 dimensions and visualize the low-dimensional data."
      ]
    },
    {
      "cell_type": "code",
      "execution_count": null,
      "metadata": {
        "colab": {
          "base_uri": "https://localhost:8080/"
        },
        "id": "tOP6VEtlWO4Q",
        "outputId": "a6e21ba1-5bf8-4d5b-92e2-a0c0eba5cdf3"
      },
      "outputs": [
        {
          "data": {
            "text/plain": [
              "(3803, 20)"
            ]
          },
          "execution_count": 3,
          "metadata": {},
          "output_type": "execute_result"
        }
      ],
      "source": [
        "X_train.shape"
      ]
    },
    {
      "cell_type": "code",
      "execution_count": 9,
      "metadata": {
        "id": "moGEgpV999cl"
      },
      "outputs": [],
      "source": [
        "# import necessary libraries\n",
        "import numpy as np\n",
        "import matplotlib.pyplot as plt\n",
        "\n",
        "# import keras libraries\n",
        "import keras\n",
        "from keras.models import Sequential\n",
        "from keras.layers import Dense, Dropout, Flatten, LeakyReLU, Activation, Input\n",
        "from keras.layers import Conv2D, MaxPooling2D"
      ]
    },
    {
      "cell_type": "code",
      "execution_count": 10,
      "metadata": {
        "id": "to6JRPC5WO4R"
      },
      "outputs": [],
      "source": [
        "# define layers (25 Points)\n",
        "X_dim = X_train.shape[1]\n",
        "encoding_dim = 2"
      ]
    },
    {
      "cell_type": "code",
      "execution_count": 11,
      "metadata": {
        "id": "ox0RofWMbnHz"
      },
      "outputs": [],
      "source": [
        "class AutoEncoder(keras.Model):\n",
        "    def __init__(self, encoding_dim, decode_dim):\n",
        "        super(AutoEncoder, self).__init__()\n",
        "        self.encoder = keras.Sequential([\n",
        "            Dense(10),\n",
        "            LeakyReLU(),\n",
        "            Dropout(0.5),\n",
        "            Dense(5),\n",
        "            LeakyReLU(),\n",
        "            Dropout(0.5),\n",
        "            Dense(encoding_dim),\n",
        "            LeakyReLU()\n",
        "        ])\n",
        "        self.decoder = keras.Sequential([\n",
        "            Dense(5),\n",
        "            LeakyReLU(),\n",
        "            Dropout(0.5),\n",
        "            Dense(10),\n",
        "            LeakyReLU(),\n",
        "            Dropout(0.5),\n",
        "            Dense(decode_dim),\n",
        "            LeakyReLU()\n",
        "        ])\n",
        "    def call(self, x):\n",
        "        encoded = self.encoder(x)\n",
        "        decoded = self.decoder(encoded)\n",
        "        return decoded"
      ]
    },
    {
      "cell_type": "code",
      "execution_count": 12,
      "metadata": {
        "colab": {
          "base_uri": "https://localhost:8080/"
        },
        "id": "rNNWeZhNWO4S",
        "outputId": "58820c43-7ade-4d2b-8ffb-13c1a1fee805"
      },
      "outputs": [
        {
          "name": "stdout",
          "output_type": "stream",
          "text": [
            "Epoch 1/100\n",
            "119/119 [==============================] - 1s 3ms/step - loss: 0.3917 - val_loss: 0.2930\n",
            "Epoch 2/100\n",
            "119/119 [==============================] - 0s 2ms/step - loss: 0.2830 - val_loss: 0.2299\n",
            "Epoch 3/100\n",
            "119/119 [==============================] - 0s 2ms/step - loss: 0.2425 - val_loss: 0.2181\n",
            "Epoch 4/100\n",
            "119/119 [==============================] - 0s 2ms/step - loss: 0.2293 - val_loss: 0.2141\n",
            "Epoch 5/100\n",
            "119/119 [==============================] - 0s 2ms/step - loss: 0.2240 - val_loss: 0.2126\n",
            "Epoch 6/100\n",
            "119/119 [==============================] - 0s 2ms/step - loss: 0.2200 - val_loss: 0.2118\n",
            "Epoch 7/100\n",
            "119/119 [==============================] - 0s 2ms/step - loss: 0.2177 - val_loss: 0.2114\n",
            "Epoch 8/100\n",
            "119/119 [==============================] - 0s 2ms/step - loss: 0.2166 - val_loss: 0.2109\n",
            "Epoch 9/100\n",
            "119/119 [==============================] - 0s 2ms/step - loss: 0.2148 - val_loss: 0.2102\n",
            "Epoch 10/100\n",
            "119/119 [==============================] - 0s 2ms/step - loss: 0.2137 - val_loss: 0.2090\n",
            "Epoch 11/100\n",
            "119/119 [==============================] - 0s 2ms/step - loss: 0.2126 - val_loss: 0.2080\n",
            "Epoch 12/100\n",
            "119/119 [==============================] - 0s 2ms/step - loss: 0.2115 - val_loss: 0.2068\n",
            "Epoch 13/100\n",
            "119/119 [==============================] - 0s 2ms/step - loss: 0.2103 - val_loss: 0.2053\n",
            "Epoch 14/100\n",
            "119/119 [==============================] - 0s 2ms/step - loss: 0.2087 - val_loss: 0.2031\n",
            "Epoch 15/100\n",
            "119/119 [==============================] - 0s 2ms/step - loss: 0.2077 - val_loss: 0.2024\n",
            "Epoch 16/100\n",
            "119/119 [==============================] - 0s 2ms/step - loss: 0.2065 - val_loss: 0.2013\n",
            "Epoch 17/100\n",
            "119/119 [==============================] - 0s 2ms/step - loss: 0.2048 - val_loss: 0.1993\n",
            "Epoch 18/100\n",
            "119/119 [==============================] - 0s 2ms/step - loss: 0.2054 - val_loss: 0.1988\n",
            "Epoch 19/100\n",
            "119/119 [==============================] - 1s 5ms/step - loss: 0.2043 - val_loss: 0.1981\n",
            "Epoch 20/100\n",
            "119/119 [==============================] - 1s 4ms/step - loss: 0.2033 - val_loss: 0.1963\n",
            "Epoch 21/100\n",
            "119/119 [==============================] - 0s 2ms/step - loss: 0.2028 - val_loss: 0.1958\n",
            "Epoch 22/100\n",
            "119/119 [==============================] - 1s 6ms/step - loss: 0.2024 - val_loss: 0.1953\n",
            "Epoch 23/100\n",
            "119/119 [==============================] - 0s 3ms/step - loss: 0.2017 - val_loss: 0.1948\n",
            "Epoch 24/100\n",
            "119/119 [==============================] - 0s 2ms/step - loss: 0.2008 - val_loss: 0.1938\n",
            "Epoch 25/100\n",
            "119/119 [==============================] - 1s 6ms/step - loss: 0.2008 - val_loss: 0.1934\n",
            "Epoch 26/100\n",
            "119/119 [==============================] - 0s 2ms/step - loss: 0.2001 - val_loss: 0.1931\n",
            "Epoch 27/100\n",
            "119/119 [==============================] - 0s 2ms/step - loss: 0.1996 - val_loss: 0.1920\n",
            "Epoch 28/100\n",
            "119/119 [==============================] - 0s 2ms/step - loss: 0.1991 - val_loss: 0.1916\n",
            "Epoch 29/100\n",
            "119/119 [==============================] - 0s 2ms/step - loss: 0.1983 - val_loss: 0.1911\n",
            "Epoch 30/100\n",
            "119/119 [==============================] - 0s 2ms/step - loss: 0.1985 - val_loss: 0.1919\n",
            "Epoch 31/100\n",
            "119/119 [==============================] - 0s 2ms/step - loss: 0.1984 - val_loss: 0.1912\n",
            "Epoch 32/100\n",
            "119/119 [==============================] - 0s 2ms/step - loss: 0.1982 - val_loss: 0.1914\n",
            "Epoch 33/100\n",
            "119/119 [==============================] - 0s 2ms/step - loss: 0.1975 - val_loss: 0.1907\n",
            "Epoch 34/100\n",
            "119/119 [==============================] - 0s 3ms/step - loss: 0.1980 - val_loss: 0.1913\n",
            "Epoch 35/100\n",
            "119/119 [==============================] - 1s 4ms/step - loss: 0.1972 - val_loss: 0.1900\n",
            "Epoch 36/100\n",
            "119/119 [==============================] - 0s 2ms/step - loss: 0.1973 - val_loss: 0.1900\n",
            "Epoch 37/100\n",
            "119/119 [==============================] - 0s 2ms/step - loss: 0.1974 - val_loss: 0.1903\n",
            "Epoch 38/100\n",
            "119/119 [==============================] - 1s 4ms/step - loss: 0.1969 - val_loss: 0.1905\n",
            "Epoch 39/100\n",
            "119/119 [==============================] - 0s 2ms/step - loss: 0.1973 - val_loss: 0.1900\n",
            "Epoch 40/100\n",
            "119/119 [==============================] - 1s 5ms/step - loss: 0.1966 - val_loss: 0.1902\n",
            "Epoch 41/100\n",
            "119/119 [==============================] - 0s 2ms/step - loss: 0.1974 - val_loss: 0.1900\n",
            "Epoch 42/100\n",
            "119/119 [==============================] - 0s 2ms/step - loss: 0.1964 - val_loss: 0.1895\n",
            "Epoch 43/100\n",
            "119/119 [==============================] - 0s 2ms/step - loss: 0.1965 - val_loss: 0.1900\n",
            "Epoch 44/100\n",
            "119/119 [==============================] - 0s 2ms/step - loss: 0.1967 - val_loss: 0.1908\n",
            "Epoch 45/100\n",
            "119/119 [==============================] - 0s 2ms/step - loss: 0.1963 - val_loss: 0.1900\n",
            "Epoch 46/100\n",
            "119/119 [==============================] - 0s 2ms/step - loss: 0.1969 - val_loss: 0.1900\n",
            "Epoch 47/100\n",
            "119/119 [==============================] - 0s 2ms/step - loss: 0.1963 - val_loss: 0.1899\n",
            "Epoch 48/100\n",
            "119/119 [==============================] - 0s 2ms/step - loss: 0.1963 - val_loss: 0.1894\n",
            "Epoch 49/100\n",
            "119/119 [==============================] - 0s 2ms/step - loss: 0.1961 - val_loss: 0.1895\n",
            "Epoch 50/100\n",
            "119/119 [==============================] - 0s 3ms/step - loss: 0.1962 - val_loss: 0.1893\n",
            "Epoch 51/100\n",
            "119/119 [==============================] - 0s 2ms/step - loss: 0.1959 - val_loss: 0.1892\n",
            "Epoch 52/100\n",
            "119/119 [==============================] - 0s 2ms/step - loss: 0.1963 - val_loss: 0.1898\n",
            "Epoch 53/100\n",
            "119/119 [==============================] - 0s 2ms/step - loss: 0.1960 - val_loss: 0.1896\n",
            "Epoch 54/100\n",
            "119/119 [==============================] - 0s 2ms/step - loss: 0.1956 - val_loss: 0.1893\n",
            "Epoch 55/100\n",
            "119/119 [==============================] - 0s 3ms/step - loss: 0.1958 - val_loss: 0.1892\n",
            "Epoch 56/100\n",
            "119/119 [==============================] - 0s 2ms/step - loss: 0.1956 - val_loss: 0.1894\n",
            "Epoch 57/100\n",
            "119/119 [==============================] - 0s 2ms/step - loss: 0.1957 - val_loss: 0.1898\n",
            "Epoch 58/100\n",
            "119/119 [==============================] - 0s 2ms/step - loss: 0.1958 - val_loss: 0.1896\n",
            "Epoch 59/100\n",
            "119/119 [==============================] - 0s 2ms/step - loss: 0.1956 - val_loss: 0.1896\n",
            "Epoch 60/100\n",
            "119/119 [==============================] - 0s 2ms/step - loss: 0.1956 - val_loss: 0.1891\n",
            "Epoch 61/100\n",
            "119/119 [==============================] - 0s 2ms/step - loss: 0.1958 - val_loss: 0.1889\n",
            "Epoch 62/100\n",
            "119/119 [==============================] - 0s 2ms/step - loss: 0.1957 - val_loss: 0.1887\n",
            "Epoch 63/100\n",
            "119/119 [==============================] - 0s 3ms/step - loss: 0.1957 - val_loss: 0.1894\n",
            "Epoch 64/100\n",
            "119/119 [==============================] - 0s 2ms/step - loss: 0.1954 - val_loss: 0.1894\n",
            "Epoch 65/100\n",
            "119/119 [==============================] - 0s 2ms/step - loss: 0.1958 - val_loss: 0.1894\n",
            "Epoch 66/100\n",
            "119/119 [==============================] - 0s 2ms/step - loss: 0.1952 - val_loss: 0.1889\n",
            "Epoch 67/100\n",
            "119/119 [==============================] - 0s 2ms/step - loss: 0.1955 - val_loss: 0.1887\n",
            "Epoch 68/100\n",
            "119/119 [==============================] - 0s 2ms/step - loss: 0.1955 - val_loss: 0.1894\n",
            "Epoch 69/100\n",
            "119/119 [==============================] - 0s 2ms/step - loss: 0.1958 - val_loss: 0.1891\n",
            "Epoch 70/100\n",
            "119/119 [==============================] - 0s 2ms/step - loss: 0.1956 - val_loss: 0.1894\n",
            "Epoch 71/100\n",
            "119/119 [==============================] - 0s 2ms/step - loss: 0.1951 - val_loss: 0.1889\n",
            "Epoch 72/100\n",
            "119/119 [==============================] - 0s 2ms/step - loss: 0.1951 - val_loss: 0.1887\n",
            "Epoch 73/100\n",
            "119/119 [==============================] - 0s 2ms/step - loss: 0.1955 - val_loss: 0.1894\n",
            "Epoch 74/100\n",
            "119/119 [==============================] - 0s 2ms/step - loss: 0.1954 - val_loss: 0.1888\n",
            "Epoch 75/100\n",
            "119/119 [==============================] - 0s 2ms/step - loss: 0.1956 - val_loss: 0.1895\n",
            "Epoch 76/100\n",
            "119/119 [==============================] - 0s 2ms/step - loss: 0.1955 - val_loss: 0.1892\n",
            "Epoch 77/100\n",
            "119/119 [==============================] - 0s 2ms/step - loss: 0.1959 - val_loss: 0.1892\n",
            "Epoch 78/100\n",
            "119/119 [==============================] - 0s 2ms/step - loss: 0.1952 - val_loss: 0.1890\n",
            "Epoch 79/100\n",
            "119/119 [==============================] - 0s 2ms/step - loss: 0.1960 - val_loss: 0.1894\n",
            "Epoch 80/100\n",
            "119/119 [==============================] - 0s 2ms/step - loss: 0.1952 - val_loss: 0.1884\n",
            "Epoch 81/100\n",
            "119/119 [==============================] - 0s 2ms/step - loss: 0.1948 - val_loss: 0.1890\n",
            "Epoch 82/100\n",
            "119/119 [==============================] - 0s 2ms/step - loss: 0.1954 - val_loss: 0.1888\n",
            "Epoch 83/100\n",
            "119/119 [==============================] - 0s 3ms/step - loss: 0.1953 - val_loss: 0.1891\n",
            "Epoch 84/100\n",
            "119/119 [==============================] - 0s 2ms/step - loss: 0.1952 - val_loss: 0.1888\n",
            "Epoch 85/100\n",
            "119/119 [==============================] - 0s 2ms/step - loss: 0.1957 - val_loss: 0.1889\n",
            "Epoch 86/100\n",
            "119/119 [==============================] - 0s 2ms/step - loss: 0.1953 - val_loss: 0.1896\n",
            "Epoch 87/100\n",
            "119/119 [==============================] - 0s 2ms/step - loss: 0.1957 - val_loss: 0.1890\n",
            "Epoch 88/100\n",
            "119/119 [==============================] - 0s 2ms/step - loss: 0.1954 - val_loss: 0.1884\n",
            "Epoch 89/100\n",
            "119/119 [==============================] - 0s 2ms/step - loss: 0.1955 - val_loss: 0.1886\n",
            "Epoch 90/100\n",
            "119/119 [==============================] - 0s 2ms/step - loss: 0.1957 - val_loss: 0.1888\n",
            "Epoch 91/100\n",
            "119/119 [==============================] - 0s 2ms/step - loss: 0.1955 - val_loss: 0.1886\n",
            "Epoch 92/100\n",
            "119/119 [==============================] - 0s 2ms/step - loss: 0.1955 - val_loss: 0.1892\n",
            "Epoch 93/100\n",
            "119/119 [==============================] - 0s 2ms/step - loss: 0.1952 - val_loss: 0.1888\n",
            "Epoch 94/100\n",
            "119/119 [==============================] - 0s 2ms/step - loss: 0.1954 - val_loss: 0.1886\n",
            "Epoch 95/100\n",
            "119/119 [==============================] - 0s 2ms/step - loss: 0.1954 - val_loss: 0.1889\n",
            "Epoch 96/100\n",
            "119/119 [==============================] - 0s 2ms/step - loss: 0.1956 - val_loss: 0.1893\n",
            "Epoch 97/100\n",
            "119/119 [==============================] - 0s 2ms/step - loss: 0.1954 - val_loss: 0.1891\n",
            "Epoch 98/100\n",
            "119/119 [==============================] - 0s 2ms/step - loss: 0.1958 - val_loss: 0.1893\n",
            "Epoch 99/100\n",
            "119/119 [==============================] - 0s 2ms/step - loss: 0.1954 - val_loss: 0.1893\n",
            "Epoch 100/100\n",
            "119/119 [==============================] - 0s 2ms/step - loss: 0.1953 - val_loss: 0.1888\n"
          ]
        },
        {
          "data": {
            "text/plain": [
              "<keras.callbacks.History at 0x7fb064d94bb0>"
            ]
          },
          "execution_count": 12,
          "metadata": {},
          "output_type": "execute_result"
        }
      ],
      "source": [
        "# train the model and reduce the dimension of the data (15 Points)\n",
        "\n",
        "autoencoder = AutoEncoder(encoding_dim)\n",
        "autoencoder.compile(optimizer='adam', loss='mse')\n",
        "\n",
        "# train the autoencoder\n",
        "autoencoder.fit(X_train, X_train, epochs=100, batch_size=32, shuffle=True, validation_data=(X_test, X_test))"
      ]
    },
    {
      "cell_type": "code",
      "execution_count": 15,
      "metadata": {
        "colab": {
          "base_uri": "https://localhost:8080/",
          "height": 592
        },
        "id": "nHC6r-xiWO4S",
        "outputId": "069767f3-071e-46d2-c61e-ac1252a12c14"
      },
      "outputs": [
        {
          "data": {
            "image/png": "[encoded data removed]",
            "text/plain": [
              "<Figure size 720x720 with 1 Axes>"
            ]
          },
          "metadata": {
            "needs_background": "light"
          },
          "output_type": "display_data"
        }
      ],
      "source": [
        "# Plot the encoded data (10 Points)\n",
        "encoded_data = autoencoder.encoder(X_test).numpy()\n",
        "decoded_data = autoencoder.decoder(encoded_data).numpy()\n",
        "\n",
        "plt.figure(figsize=(10, 10))\n",
        "plt.scatter(encoded_data[:, 0], encoded_data[:, 1], c=y_test, cmap='tab10')\n",
        "plt.show()"
      ]
    },
    {
      "cell_type": "code",
      "execution_count": 17,
      "metadata": {
        "colab": {
          "base_uri": "https://localhost:8080/",
          "height": 592
        },
        "id": "Ua2G1DmacjYO",
        "outputId": "6bdd7fb7-9141-448f-ee76-c991512cf748"
      },
      "outputs": [
        {
          "data": {
            "image/png": "[encoded data removed]",
            "text/plain": [
              "<Figure size 720x720 with 1 Axes>"
            ]
          },
          "metadata": {
            "needs_background": "light"
          },
          "output_type": "display_data"
        }
      ],
      "source": [
        "plt.figure(figsize=(10, 10))\n",
        "\n",
        "plt.scatter(encoded_data[:, 0], encoded_data[:, 1] + y_test, c=y_test, cmap='tab10')\n",
        "plt.show()"
      ]
    }
  ],
  "metadata": {
    "colab": {
      "provenance": []
    },
    "gpuClass": "standard",
    "kernelspec": {
      "display_name": "myEnv",
      "language": "python",
      "name": "python3"
    },
    "language_info": {
      "codemirror_mode": {
        "name": "ipython",
        "version": 3
      },
      "file_extension": ".py",
      "mimetype": "text/x-python",
      "name": "python",
      "nbconvert_exporter": "python",
      "pygments_lexer": "ipython3",
      "version": "3.8.13 (default, Mar 28 2022, 06:16:26) \n[Clang 12.0.0 ]"
    },
    "vscode": {
      "interpreter": {
        "hash": "17834c5f8fe1aed837634498cfcf8480d7a4681659b9e2d9e3df938711b793bb"
      }
    }
  },
  "nbformat": 4,
  "nbformat_minor": 0
}
